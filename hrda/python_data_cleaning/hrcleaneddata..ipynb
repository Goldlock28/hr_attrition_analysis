import pandas as pd
df = pd.read_csv("WA_Fn-UseC_-HR-Employee-Attrition.csv")
cols_to_drop = ['EmployeeNumber', 'Over18', 'EmployeeCount', 'StandardHours']
df.drop(columns=cols_to_drop, inplace=True)
categorical_cols = df.select_dtypes(include='object').columns
df[categorical_cols] = df[categorical_cols].astype('category')
if df.isnull().sum().sum() == 0:
    print(" No missing values in the dataset.")
else:
    print(" Missing values found:\n", df.isnull().sum())
df.to_excel("Cleaned_HR_Data.xlsx", index=False)

